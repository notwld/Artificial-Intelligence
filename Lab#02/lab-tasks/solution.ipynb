{
 "cells": [
  {
   "cell_type": "code",
   "execution_count": 69,
   "metadata": {},
   "outputs": [
    {
     "name": "stdout",
     "output_type": "stream",
     "text": [
      " This is first call to the user defined function !\n",
      " Again second call to the same function \n"
     ]
    }
   ],
   "source": [
    "def printme(str):\n",
    "    \" This prints a passed string into this function \"\n",
    "    print(str)\n",
    "    return\n",
    "\n",
    "\n",
    "printme(\" This is first call to the user defined function !\")\n",
    "printme(\" Again second call to the same function \")\n"
   ]
  },
  {
   "cell_type": "code",
   "execution_count": 70,
   "metadata": {},
   "outputs": [
    {
     "name": "stdout",
     "output_type": "stream",
     "text": [
      " Values inside the function before change :  [10, 20, 30]\n",
      " Values inside the function after change :  [10, 20, 50]\n",
      " Values outside the function :  [10, 20, 50]\n"
     ]
    }
   ],
   "source": [
    "# Function definition is here\n",
    "def changeme(mylist):\n",
    "    \" This changes a passed list into this function \"\n",
    "    print(\" Values inside the function before change : \", mylist)\n",
    "    mylist[2] = 50\n",
    "    print(\" Values inside the function after change : \", mylist)\n",
    "    return\n",
    "\n",
    "\n",
    "8  # Now you can call changeme function\n",
    "mylist = [10, 20, 30]\n",
    "changeme(mylist)\n",
    "print(\" Values outside the function : \", mylist)\n"
   ]
  },
  {
   "cell_type": "code",
   "execution_count": 71,
   "metadata": {},
   "outputs": [
    {
     "name": "stdout",
     "output_type": "stream",
     "text": [
      " Values inside the function :  [1, 2, 3, 4]\n",
      " Values outside the function :  [10, 20, 30]\n"
     ]
    }
   ],
   "source": [
    "# Function definition is here\n",
    "def changeme(mylist):\n",
    "    \" This changes a passed list into this function \"\n",
    "    mylist = [1, 2, 3, 4]  # This would assign new reference in mylist\n",
    "    print(\" Values inside the function : \", mylist)\n",
    "    return\n",
    "\n",
    "\n",
    "# Now you can call changeme function\n",
    "mylist = [10, 20, 30]\n",
    "changeme(mylist)\n",
    "print(\" Values outside the function : \", mylist)\n"
   ]
  },
  {
   "cell_type": "code",
   "execution_count": 72,
   "metadata": {},
   "outputs": [
    {
     "name": "stdout",
     "output_type": "stream",
     "text": [
      " Inside the function :  30\n",
      " Outside the function :  30\n"
     ]
    }
   ],
   "source": [
    "# Function definition is here\n",
    "def sum(arg1, arg2):\n",
    "    # Add both the parameters and return them .\"\n",
    "    total = arg1 + arg2\n",
    "    print(\" Inside the function : \", total)\n",
    "    return total\n",
    "\n",
    "\n",
    "# Now you can call sum function\n",
    "total = sum(10, 20)\n",
    "print(\" Outside the function : \", total)\n"
   ]
  },
  {
   "cell_type": "code",
   "execution_count": 73,
   "metadata": {},
   "outputs": [
    {
     "name": "stdout",
     "output_type": "stream",
     "text": [
      " Razer  is 6 years old \n",
      " Razer  says  Woof Woof \n"
     ]
    }
   ],
   "source": [
    "class Dog:\n",
    "    # Class Attribute\n",
    "    species = 'mammal'\n",
    "# Initializer / Instance Attributes\n",
    "\n",
    "    def __init__(self, name, age):\n",
    "        self.name = name\n",
    "        self.age = age\n",
    "# instance method\n",
    "\n",
    "    def description(self):\n",
    "        return \"{} is {} years old \". format(self . name, self . age)\n",
    "        # instance method\n",
    "\n",
    "    def speak(self, sound):\n",
    "        return \"{} says {}\". format(self . name, sound)\n",
    "\n",
    "    # Instantiate the Dog object\n",
    "razer = Dog(\" Razer \", 6)\n",
    "# call our instance methods\n",
    "print(razer . description())\n",
    "print(razer . speak(\" Woof Woof \"))\n"
   ]
  },
  {
   "cell_type": "code",
   "execution_count": 74,
   "metadata": {},
   "outputs": [
    {
     "name": "stdout",
     "output_type": "stream",
     "text": [
      " Thunder  is 9 years old \n",
      " Thunder  runs  slowly \n",
      " Spinter  is 12 years old \n",
      " Spinter  runs  fast \n"
     ]
    }
   ],
   "source": [
    "# Parent class\n",
    "class Dog:\n",
    "\n",
    "    # Class attribute\n",
    "    species = 'mammal'\n",
    "    # Initializer / Instance attributes\n",
    "\n",
    "    def __init__(self, name, age):\n",
    "\n",
    "        self . name = name\n",
    "        self . age = age\n",
    "    # instance method\n",
    "\n",
    "    def description(self):\n",
    "        return \"{} is {} years old \". format(self . name, self . age)\n",
    "        # instance method\n",
    "\n",
    "    def speak(self, sound):\n",
    "        return \"{} says {}\". format(self . name, sound)\n",
    "    # Child class ( inherits from Dog class )\n",
    "\n",
    "\n",
    "class RussellTerrier (Dog):\n",
    "    def run(self, speed):\n",
    "        return \"{} runs {}\". format(self . name, speed)\n",
    "    # Child class ( inherits from Dog class )\n",
    "\n",
    "\n",
    "class Bulldog (Dog):\n",
    "    def run(self, speed):\n",
    "        return \"{} runs {}\". format(self . name, speed)\n",
    "\n",
    "\n",
    "# Child classes inherit attributes and\n",
    "# behaviors from the parent class\n",
    "thunder = Bulldog(\" Thunder \", 9)\n",
    "print(thunder . description())\n",
    "# Child classes have specific attributes\n",
    "# and behaviors as well\n",
    "print(thunder . run(\" slowly \"))\n",
    "spinter = Bulldog(\" Spinter \", 12)\n",
    "print(spinter . description())\n",
    "print(spinter . run(\" fast \"))\n",
    "roger = RussellTerrier(\" Roger \", 5)\n"
   ]
  },
  {
   "cell_type": "code",
   "execution_count": 75,
   "metadata": {},
   "outputs": [
    {
     "name": "stdout",
     "output_type": "stream",
     "text": [
      " Thunder  is 9 years old \n",
      " Thunder  runs  slowly \n",
      "True\n",
      "True\n",
      "True\n"
     ]
    },
    {
     "ename": "TypeError",
     "evalue": "isinstance() arg 2 must be a type, a tuple of types, or a union",
     "output_type": "error",
     "traceback": [
      "\u001b[1;31m---------------------------------------------------------------------------\u001b[0m",
      "\u001b[1;31mTypeError\u001b[0m                                 Traceback (most recent call last)",
      "Cell \u001b[1;32mIn[75], line 38\u001b[0m\n\u001b[0;32m     36\u001b[0m Kate \u001b[39m=\u001b[39m RussellTerrier (\u001b[39m\"\u001b[39m\u001b[39m Kate \u001b[39m\u001b[39m\"\u001b[39m, \u001b[39m4\u001b[39m)\n\u001b[0;32m     37\u001b[0m \u001b[39mprint\u001b[39m ( \u001b[39misinstance\u001b[39m ( Kate , Dog ) )\n\u001b[1;32m---> 38\u001b[0m \u001b[39mprint\u001b[39m ( \u001b[39misinstance\u001b[39;49m ( thunder_kid , Kate ) )\n\u001b[0;32m     40\u001b[0m \u001b[39mprint\u001b[39m (\u001b[39m\"\u001b[39m\u001b[39m Thanks for understanding the concept of OOPs \u001b[39m\u001b[39m\"\u001b[39m)\n",
      "\u001b[1;31mTypeError\u001b[0m: isinstance() arg 2 must be a type, a tuple of types, or a union"
     ]
    }
   ],
   "source": [
    "# Parent class\n",
    "class Dog :\n",
    "    # Class attribute\n",
    "    species = 'mammal'\n",
    "# Initializer / Instance attributes\n",
    "    def __init__ ( self , name , age ) :\n",
    "        self . name = name\n",
    "        self . age = age\n",
    "# instance method\n",
    "    def description ( self ) :\n",
    "        return \"{} is {} years old \". format ( self . name , self . age )\n",
    "# instance method\n",
    "    def speak ( self , sound ) :\n",
    "        return \"{} says {}\". format ( self . name , sound )\n",
    " # Child class ( inherits from Dog () class )\n",
    "class RussellTerrier ( Dog ) :\n",
    "    def run ( self , speed ) :\n",
    "        return \"{} runs {}\". format ( self . name , speed )\n",
    "# Child class ( inherits from Dog () class )\n",
    "class Bulldog ( Dog ) :\n",
    "    def run ( self , speed ) :\n",
    "        return \"{} runs {}\". format ( self . name , speed )\n",
    " # Child classes inherit attributes and\n",
    " # behaviors from the parent class\n",
    "thunder = Bulldog (\" Thunder \", 9)\n",
    "print ( thunder . description () )\n",
    "# Child classes have specific attributes\n",
    "# and behaviors as well\n",
    "print ( thunder . run (\" slowly \") )\n",
    "# Is thunder an instance of Dog ()?\n",
    "print ( isinstance ( thunder , Dog ) )\n",
    "# Is thunder_kid an instance of Dog ()?\n",
    "thunder_kid = Dog (\" ThunderKid \", 2)\n",
    "print ( isinstance ( thunder , Dog ) )\n",
    "# Is Kate an instance of Bulldog ()\n",
    "Kate = RussellTerrier (\" Kate \", 4)\n",
    "print ( isinstance ( Kate , Dog ) )\n",
    "print ( isinstance ( thunder_kid , Kate ) )\n",
    "\n",
    "print (\" Thanks for understanding the concept of OOPs \")"
   ]
  },
  {
   "cell_type": "code",
   "execution_count": 3,
   "metadata": {},
   "outputs": [
    {
     "name": "stdout",
     "output_type": "stream",
     "text": [
      "-2, -2j\n",
      "0.44, 0.08j\n"
     ]
    }
   ],
   "source": [
    "import math\n",
    "\n",
    "class ComplexAPI:\n",
    "    def __init__(self, real, imag):\n",
    "        self.real = real\n",
    "        self.imag = imag\n",
    "\n",
    "    def theta(self):\n",
    "        return math.atan2(self.imag, self.real)\n",
    "\n",
    "    def conjugate(self):\n",
    "        return ComplexAPI(self.real, -self.imag)\n",
    "\n",
    "    def __sub__(self, other):\n",
    "        return ComplexAPI(self.real - other.real, self.imag - other.imag)\n",
    "\n",
    "    def __truediv__(self, other):\n",
    "        if isinstance(other, ComplexAPI):\n",
    "            conj = other.conjugate()\n",
    "            numerator = self * conj\n",
    "            denominator = other * conj\n",
    "            return ComplexAPI(numerator.real / denominator.real, numerator.imag / denominator.real)\n",
    "        elif isinstance(other, complex):\n",
    "            conj = ComplexAPI(other.real, -other.imag)\n",
    "            numerator = self * conj\n",
    "            denominator = other * conj\n",
    "            return ComplexAPI(numerator.real / denominator.real, numerator.imag / denominator.real)\n",
    "        else:\n",
    "            raise TypeError(f\"unsupported operand type(s) for /: 'ComplexAPI' and '{type(other)}'\")\n",
    "\n",
    "    def __mul__(self, other):\n",
    "        if isinstance(other, ComplexAPI):\n",
    "            real = self.real * other.real - self.imag * other.imag\n",
    "            imag = self.real * other.imag + self.imag * other.real\n",
    "            return ComplexAPI(real, imag)\n",
    "        elif isinstance(other, complex):\n",
    "            real = self.real * other.real - self.imag * other.imag\n",
    "            imag = self.real * other.imag + self.imag * other.real\n",
    "            return complex(real, imag)\n",
    "        else:\n",
    "            raise TypeError(f\"unsupported operand type(s) for *: 'ComplexAPI' and '{type(other)}'\")\n",
    "\n",
    "    def __pow__(self, power):\n",
    "        r = math.hypot(self.real, self.imag)\n",
    "        theta = self.theta()\n",
    "        new_r = r ** power\n",
    "        new_theta = theta * power\n",
    "        real = new_r * math.cos(new_theta)\n",
    "        imag = new_r * math.sin(new_theta)\n",
    "        return ComplexAPI(real, imag)\n",
    "\n",
    "    def __repr__(self) -> str:\n",
    "        return f\"{self.real}, {self.imag}j\"\n",
    "\n",
    "    \n",
    "a = ComplexAPI(1, 2)\n",
    "b = ComplexAPI(3, 4)\n",
    "c = 2 + 3j\n",
    "\n",
    "print(a - b) \n",
    "print(a / b)\n"
   ]
  }
 ],
 "metadata": {
  "kernelspec": {
   "display_name": "Python 3",
   "language": "python",
   "name": "python3"
  },
  "language_info": {
   "codemirror_mode": {
    "name": "ipython",
    "version": 3
   },
   "file_extension": ".py",
   "mimetype": "text/x-python",
   "name": "python",
   "nbconvert_exporter": "python",
   "pygments_lexer": "ipython3",
   "version": "3.10.8"
  },
  "orig_nbformat": 4
 },
 "nbformat": 4,
 "nbformat_minor": 2
}
