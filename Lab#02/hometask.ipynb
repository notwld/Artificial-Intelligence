{
 "cells": [
  {
   "attachments": {},
   "cell_type": "markdown",
   "metadata": {},
   "source": [
    "Polynomials: Develop a class for univariate polynomials with integer coecients, such as x3 + 5 x 2 + 3x + 7. Include methods for standard operations on polynomials such as addition, subtraction, multiplication,degree, evaluation and testing equality.\n"
   ]
  },
  {
   "cell_type": "code",
   "execution_count": 1,
   "metadata": {},
   "outputs": [
    {
     "name": "stdout",
     "output_type": "stream",
     "text": [
      "1x^0 + 2x^1 + 3x^2\n",
      "4x^0 + 4x^1 + 4x^2\n",
      "-2x^0 + 0x^1 + 2x^2\n",
      "3x^0 + 4x^1 + 3x^2\n",
      "False\n",
      "2\n",
      "17\n"
     ]
    }
   ],
   "source": [
    "class Polynomial:\n",
    "    def __init__(self, *args):\n",
    "        self.coefficients = args\n",
    "    def __str__(self):\n",
    "        return ' + '.join([str(c) + 'x^' + str(i) for i, c in enumerate(self.coefficients)])\n",
    "    def __add__(self, other):\n",
    "        return Polynomial(*[c1 + c2 for c1, c2 in zip(self.coefficients, other.coefficients)])\n",
    "    def __sub__(self, other):\n",
    "        return Polynomial(*[c1 - c2 for c1, c2 in zip(self.coefficients, other.coefficients)])\n",
    "    def __mul__(self, other):\n",
    "        return Polynomial(*[c1 * c2 for c1, c2 in zip(self.coefficients, other.coefficients)])\n",
    "    def __eq__(self, other):\n",
    "        return self.coefficients == other.coefficients\n",
    "    def degree(self):\n",
    "        return len(self.coefficients) - 1\n",
    "    def evaluate(self, x):\n",
    "        return sum([c * x ** i for i, c in enumerate(self.coefficients)])\n",
    "    \n",
    "p1 = Polynomial(1, 2, 3)\n",
    "p2 = Polynomial(3, 2, 1)\n",
    "\n",
    "print(p1)\n",
    "\n",
    "print(p1 + p2)\n",
    "\n",
    "print(p1 - p2)\n",
    "\n",
    "print(p1 * p2)\n",
    "\n",
    "print(p1 == p2)\n",
    "\n",
    "print(p1.degree())\n",
    "\n",
    "print(p1.evaluate(2))\n"
   ]
  }
 ],
 "metadata": {
  "kernelspec": {
   "display_name": "Python 3",
   "language": "python",
   "name": "python3"
  },
  "language_info": {
   "codemirror_mode": {
    "name": "ipython",
    "version": 3
   },
   "file_extension": ".py",
   "mimetype": "text/x-python",
   "name": "python",
   "nbconvert_exporter": "python",
   "pygments_lexer": "ipython3",
   "version": "3.10.8"
  },
  "orig_nbformat": 4
 },
 "nbformat": 4,
 "nbformat_minor": 2
}
