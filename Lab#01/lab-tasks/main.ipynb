{
 "cells": [
  {
   "cell_type": "code",
   "execution_count": 1,
   "metadata": {},
   "outputs": [],
   "source": [
    "word = \"word\"\n",
    "sentence = \" This is a sentence .\"\n",
    "paragraph = \"\"\" This is a paragraph . It is made up of\n",
    "multiple lines and sentences . \"\"\"\n"
   ]
  },
  {
   "cell_type": "code",
   "execution_count": 4,
   "metadata": {},
   "outputs": [
    {
     "name": "stdout",
     "output_type": "stream",
     "text": [
      "100\n",
      "1000.0\n",
      "Usman \n"
     ]
    }
   ],
   "source": [
    "counter = 100 # An integer assignment\n",
    "miles = 1000.0 # A floating point\n",
    "name = \"Usman \" # A string\n",
    "print ( counter )\n",
    "print ( miles )\n",
    "print ( name )"
   ]
  },
  {
   "cell_type": "code",
   "execution_count": null,
   "metadata": {},
   "outputs": [],
   "source": [
    "var1 = 1\n",
    "var2 = 10"
   ]
  },
  {
   "cell_type": "code",
   "execution_count": 6,
   "metadata": {},
   "outputs": [
    {
     "name": "stdout",
     "output_type": "stream",
     "text": [
      "Hello World !\n",
      "H\n",
      "llo\n",
      "llo World !\n",
      "Hello World !Hello World !\n",
      "Hello World ! TEST \n"
     ]
    }
   ],
   "source": [
    "str = \"Hello World !\"\n",
    "print (str) # Prints complete string\n",
    "print (str [0]) # Prints first character of the string\n",
    "print (str [2:5]) # Prints characters starting from 3rd to 5th\n",
    "print (str [2:]) # Prints string starting from 3rd character\n",
    "print (str * 2) # Prints string two times\n",
    "print (str + \" TEST \") # Prints concatenated string"
   ]
  },
  {
   "cell_type": "code",
   "execution_count": 7,
   "metadata": {},
   "outputs": [
    {
     "name": "stdout",
     "output_type": "stream",
     "text": [
      " list1 [0]:  physics\n",
      " list2 [1:5]:  [2, 3, 4, 5]\n"
     ]
    }
   ],
   "source": [
    "list1 = [\"physics\", \"chemistry\", 1997 , 2000]\n",
    "list2 = [1 , 2 , 3 , 4 , 5 , 6 , 7 ]\n",
    "print (\" list1 [0]: \", list1 [0])\n",
    "print (\" list2 [1:5]: \", list2 [1:5])"
   ]
  },
  {
   "cell_type": "code",
   "execution_count": 8,
   "metadata": {},
   "outputs": [
    {
     "name": "stdout",
     "output_type": "stream",
     "text": [
      " Value available at index 2 :  1997\n",
      "New value available at index 2 :  2001\n"
     ]
    }
   ],
   "source": [
    "list = [\"physics\" , \"chemistry\" , 1997 , 2000]\n",
    "print (\" Value available at index 2 : \", list [2])\n",
    "list [2] = 2001\n",
    "print (\"New value available at index 2 : \", list [2])\n"
   ]
  },
  {
   "cell_type": "code",
   "execution_count": 9,
   "metadata": {},
   "outputs": [
    {
     "name": "stdout",
     "output_type": "stream",
     "text": [
      "['physics', 'chemistry', 1997, 2000]\n",
      " After deleting value at index 2 :  ['physics', 'chemistry', 2000]\n"
     ]
    }
   ],
   "source": [
    "list = [\"physics\", \"chemistry\", 1997 , 2000]\n",
    "print ( list )\n",
    "del list [2]\n",
    "print (\" After deleting value at index 2 : \", list )\n"
   ]
  },
  {
   "cell_type": "code",
   "execution_count": 10,
   "metadata": {},
   "outputs": [
    {
     "name": "stdout",
     "output_type": "stream",
     "text": [
      "('abcd', 786, 2.23, 'john', 70.2)\n",
      "abcd\n",
      "(786, 2.23)\n",
      "(2.23, 'john', 70.2)\n",
      "(123, 'john', 123, 'john')\n",
      "('abcd', 786, 2.23, 'john', 70.2, 123, 'john')\n"
     ]
    }
   ],
   "source": [
    "tuple = ( \"abcd\" , 786 , 2.23 , \"john\" , 70.2 )\n",
    "tinytuple = (123 , \"john\" )\n",
    "print ( tuple ) # Prints complete tuple\n",
    "print ( tuple [0]) # Prints first element of the tuple\n",
    "print ( tuple [1:3]) # Prints elements starting from 2nd till 3rd\n",
    "print ( tuple [2:]) # Prints elements starting from 3rd element\n",
    "print ( tinytuple * 2) # Prints tuple two times\n",
    "print ( tuple + tinytuple ) # Prints concatenated tuple"
   ]
  },
  {
   "cell_type": "code",
   "execution_count": null,
   "metadata": {},
   "outputs": [],
   "source": [
    "tuple = ( \"abcd\", 786 , 2.23 , \"john\", 70.2 )\n",
    "list = [ \"abcd\", 786 , 2.23 , \"john\", 70.2 ]\n",
    "tuple [2] = 1000 # Invalid syntax with tuple\n",
    "list [2] = 1000 # Valid syntax with list"
   ]
  },
  {
   "cell_type": "code",
   "execution_count": 11,
   "metadata": {},
   "outputs": [
    {
     "ename": "TypeError",
     "evalue": "'tuple' object does not support item assignment",
     "output_type": "error",
     "traceback": [
      "\u001b[0;31m---------------------------------------------------------------------------\u001b[0m",
      "\u001b[0;31mTypeError\u001b[0m                                 Traceback (most recent call last)",
      "Cell \u001b[0;32mIn[11], line 3\u001b[0m\n\u001b[1;32m      1\u001b[0m \u001b[39mtuple\u001b[39m \u001b[39m=\u001b[39m ( \u001b[39m\"\u001b[39m\u001b[39mabcd\u001b[39m\u001b[39m\"\u001b[39m , \u001b[39m786\u001b[39m , \u001b[39m2.23\u001b[39m , \u001b[39m\"\u001b[39m\u001b[39mjohn\u001b[39m\u001b[39m\"\u001b[39m , \u001b[39m70.2\u001b[39m )\n\u001b[1;32m      2\u001b[0m \u001b[39mlist\u001b[39m \u001b[39m=\u001b[39m [ \u001b[39m\"\u001b[39m\u001b[39mabcd\u001b[39m\u001b[39m\"\u001b[39m , \u001b[39m786\u001b[39m , \u001b[39m2.23\u001b[39m , \u001b[39m\"\u001b[39m\u001b[39mjohn\u001b[39m\u001b[39m\"\u001b[39m , \u001b[39m70.2\u001b[39m ]\n\u001b[0;32m----> 3\u001b[0m \u001b[39mtuple\u001b[39;49m [\u001b[39m2\u001b[39;49m] \u001b[39m=\u001b[39m \u001b[39m1000\u001b[39m \u001b[39m# Invalid syntax with tuple\u001b[39;00m\n\u001b[1;32m      4\u001b[0m \u001b[39mlist\u001b[39m [\u001b[39m2\u001b[39m] \u001b[39m=\u001b[39m \u001b[39m1000\u001b[39m \u001b[39m# Valid syntax with list\u001b[39;00m\n",
      "\u001b[0;31mTypeError\u001b[0m: 'tuple' object does not support item assignment"
     ]
    }
   ],
   "source": [
    "tuple = ( \"abcd\" , 786 , 2.23 , \"john\" , 70.2 )\n",
    "list = [ \"abcd\" , 786 , 2.23 , \"john\" , 70.2 ]\n",
    "tuple [2] = 1000 # Invalid syntax with tuple\n",
    "list [2] = 1000 # Valid syntax with list"
   ]
  },
  {
   "cell_type": "code",
   "execution_count": 12,
   "metadata": {},
   "outputs": [
    {
     "name": "stdout",
     "output_type": "stream",
     "text": [
      "1 - Got a true expression value \n",
      "100\n"
     ]
    }
   ],
   "source": [
    "var1 = 100\n",
    "if var1:\n",
    "    print (\"1 - Got a true expression value \")\n",
    "    print ( var1 )\n",
    "    var2 = 0\n",
    "if var2:\n",
    "    print (\"2 - Got a true expression value \")\n",
    "    print ( var2 )\n",
    "    print (\" Good bye!\")"
   ]
  },
  {
   "cell_type": "code",
   "execution_count": 13,
   "metadata": {},
   "outputs": [
    {
     "name": "stdout",
     "output_type": "stream",
     "text": [
      " Discount  1.0\n"
     ]
    }
   ],
   "source": [
    "amount = int( input (\" Enter amount : \") )\n",
    "if amount <1000:\n",
    "    discount = amount *0.05\n",
    "    print (\" Discount \", discount )\n",
    "else :\n",
    "    discount = amount *0.10\n",
    "    print (\" Discount \", discount )\n",
    "    print (\"Net payable :\", amount - discount )"
   ]
  },
  {
   "cell_type": "code",
   "execution_count": 14,
   "metadata": {},
   "outputs": [
    {
     "name": "stdout",
     "output_type": "stream",
     "text": [
      " Discount  3750.0\n",
      "Net payable : 21250.0\n"
     ]
    }
   ],
   "source": [
    "\n",
    "amount = int( input (\" Enter amount : \") )\n",
    "if amount <1000:\n",
    "    discount = amount *0.05\n",
    "    print (\" Discount \", discount )\n",
    "elif amount <5000:\n",
    "    discount = amount *0.10\n",
    "    print (\" Discount \", discount )\n",
    "else :\n",
    "    discount = amount *0.15\n",
    "    print (\" Discount \", discount )\n",
    "    print (\"Net payable :\", amount - discount )"
   ]
  },
  {
   "cell_type": "code",
   "execution_count": 15,
   "metadata": {},
   "outputs": [
    {
     "name": "stdout",
     "output_type": "stream",
     "text": [
      "The count is: 0\n",
      "The count is: 1\n",
      "The count is: 2\n",
      "The count is: 3\n",
      "The count is: 4\n",
      "The count is: 5\n",
      "The count is: 6\n",
      "The count is: 7\n",
      "The count is: 8\n",
      " Good bye!\n"
     ]
    }
   ],
   "source": [
    "count = 0\n",
    "while ( count < 9) :\n",
    "    print (\"The count is:\", count )\n",
    "    count = count + 1\n",
    "print (\" Good bye!\")"
   ]
  },
  {
   "cell_type": "code",
   "execution_count": 17,
   "metadata": {},
   "outputs": [
    {
     "name": "stdout",
     "output_type": "stream",
     "text": [
      "0\n",
      "1\n",
      "2\n",
      "3\n",
      "4\n"
     ]
    }
   ],
   "source": [
    "for var in range(5) :\n",
    "    print ( var )\n"
   ]
  },
  {
   "cell_type": "code",
   "execution_count": 19,
   "metadata": {},
   "outputs": [
    {
     "name": "stdout",
     "output_type": "stream",
     "text": [
      "Current Letter : P\n",
      "\n",
      "Current Letter : y\n",
      "\n",
      "Current Letter : t\n",
      "\n",
      "Current Letter : h\n",
      "\n",
      "Current Letter : o\n",
      "\n",
      "Current Letter : n\n",
      "\n",
      "Current fruit : banana\n",
      "Current fruit : apple\n",
      "Current fruit : mango\n",
      "Good bye!\n"
     ]
    }
   ],
   "source": [
    "for letter in \"Python\": # traversal of a string sequence\n",
    "    print (\"Current Letter :\", letter )\n",
    "    print ()\n",
    "fruits = [\"banana\", \"apple\", \"mango\"]\n",
    "for fruit in fruits : # traversal of List sequence\n",
    "    print (\"Current fruit :\", fruit )\n",
    "print (\"Good bye!\")"
   ]
  },
  {
   "cell_type": "code",
   "execution_count": null,
   "metadata": {},
   "outputs": [],
   "source": []
  }
 ],
 "metadata": {
  "kernelspec": {
   "display_name": "Python 3",
   "language": "python",
   "name": "python3"
  },
  "language_info": {
   "codemirror_mode": {
    "name": "ipython",
    "version": 3
   },
   "file_extension": ".py",
   "mimetype": "text/x-python",
   "name": "python",
   "nbconvert_exporter": "python",
   "pygments_lexer": "ipython3",
   "version": "3.10.4"
  },
  "orig_nbformat": 4
 },
 "nbformat": 4,
 "nbformat_minor": 2
}
