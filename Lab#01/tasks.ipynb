{
 "cells": [
  {
   "attachments": {},
   "cell_type": "markdown",
   "metadata": {},
   "source": [
    "Write python functions that use all the concepts discussed in this manual. You are at liberty to\n",
    "decide the number of functions to implements these concepts."
   ]
  },
  {
   "cell_type": "code",
   "execution_count": 1,
   "metadata": {},
   "outputs": [
    {
     "data": {
      "text/plain": [
       "9"
      ]
     },
     "execution_count": 1,
     "metadata": {},
     "output_type": "execute_result"
    }
   ],
   "source": [
    "def add(x,y):\n",
    "    return x+y\n",
    "\n",
    "add(4,5)"
   ]
  },
  {
   "cell_type": "code",
   "execution_count": 2,
   "metadata": {},
   "outputs": [
    {
     "data": {
      "text/plain": [
       "'dalas'"
      ]
     },
     "execution_count": 2,
     "metadata": {},
     "output_type": "execute_result"
    }
   ],
   "source": [
    "def reverse(str):\n",
    "    return str[::-1]\n",
    "\n",
    "reverse(\"salad\")"
   ]
  },
  {
   "cell_type": "code",
   "execution_count": 3,
   "metadata": {},
   "outputs": [
    {
     "data": {
      "text/plain": [
       "[1, 9]"
      ]
     },
     "execution_count": 3,
     "metadata": {},
     "output_type": "execute_result"
    }
   ],
   "source": [
    "def oddSquare(r):\n",
    "    return [num**2 for num in range(r) if num%2==1]\n",
    "\n",
    "oddSquare(4)"
   ]
  },
  {
   "cell_type": "code",
   "execution_count": 8,
   "metadata": {},
   "outputs": [
    {
     "data": {
      "text/plain": [
       "'Name: waleed Age: 22 Dept: SE'"
      ]
     },
     "execution_count": 8,
     "metadata": {},
     "output_type": "execute_result"
    }
   ],
   "source": [
    "def employee(tup):\n",
    "    return f\"Name: {tup[0]} Age: {tup[1]} Dept: {tup[2]}\"\n",
    "\n",
    "employee((\"waleed\",22,\"SE\"))"
   ]
  },
  {
   "cell_type": "code",
   "execution_count": 10,
   "metadata": {},
   "outputs": [
    {
     "data": {
      "text/plain": [
       "[('watermelons', 20), ('oranges', 30)]"
      ]
     },
     "execution_count": 10,
     "metadata": {},
     "output_type": "execute_result"
    }
   ],
   "source": [
    "def dictToList(d):\n",
    "    return [(value,key) for value,key in d.items()]\n",
    "\n",
    "dictToList({\"watermelons\":20,\"oranges\":30})"
   ]
  },
  {
   "cell_type": "code",
   "execution_count": 18,
   "metadata": {},
   "outputs": [
    {
     "data": {
      "text/plain": [
       "'A'"
      ]
     },
     "execution_count": 18,
     "metadata": {},
     "output_type": "execute_result"
    }
   ],
   "source": [
    "def grade(total):\n",
    "    if total >= 90:\n",
    "        return \"A+\"\n",
    "    elif total >= 80 and total < 90:\n",
    "        return \"A\"\n",
    "    else:\n",
    "        return \"Pass\"\n",
    "\n",
    "grade(89)"
   ]
  },
  {
   "attachments": {},
   "cell_type": "markdown",
   "metadata": {},
   "source": [
    "Write a recursive function that reverses the a string input\n"
   ]
  },
  {
   "cell_type": "code",
   "execution_count": 21,
   "metadata": {},
   "outputs": [
    {
     "data": {
      "text/plain": [
       "'dalas'"
      ]
     },
     "execution_count": 21,
     "metadata": {},
     "output_type": "execute_result"
    }
   ],
   "source": [
    "def reverseRec(str):\n",
    "    if len(str) == 0:\n",
    "        return str\n",
    "    else:\n",
    "        return reverseRec(str[1:]) + str[0]\n",
    "\n",
    "reverseRec(\"salad\")"
   ]
  },
  {
   "attachments": {},
   "cell_type": "markdown",
   "metadata": {},
   "source": [
    "Write a short Python function, minmax(data), that takes a sequence of one or more numbers, and\n",
    "returns the smallest and largest numbers, in the form of a tuple of length two. Do not use the built-in\n",
    "functions min or max in implementing your solution.\n"
   ]
  },
  {
   "cell_type": "code",
   "execution_count": 23,
   "metadata": {},
   "outputs": [
    {
     "data": {
      "text/plain": [
       "(1, 9)"
      ]
     },
     "execution_count": 23,
     "metadata": {},
     "output_type": "execute_result"
    }
   ],
   "source": [
    "def findMinandMax(l):\n",
    "    min = l[0]\n",
    "    max = l[0]\n",
    "    for i in l:\n",
    "        if i < min:\n",
    "            min = i\n",
    "        if i > max:\n",
    "            max = i\n",
    "\n",
    "    return (min,max)\n",
    "\n",
    "findMinandMax([1,2,3,4,5,6,7,8,9])"
   ]
  },
  {
   "attachments": {},
   "cell_type": "markdown",
   "metadata": {},
   "source": [
    "Write a recursive function that replaces elements of a numpy two dimensional array with their multiplicative inverse."
   ]
  },
  {
   "cell_type": "code",
   "execution_count": 40,
   "metadata": {},
   "outputs": [
    {
     "data": {
      "text/plain": [
       "array([5.        , 1.        , 5.        , 0.2       , 8.        ,\n",
       "       0.125     , 6.        , 0.16666667, 7.        , 0.25      ])"
      ]
     },
     "execution_count": 40,
     "metadata": {},
     "output_type": "execute_result"
    }
   ],
   "source": [
    "import numpy as np\n",
    "\n",
    "def reverse2DArray(arr):\n",
    "    if arr.size == 0:\n",
    "        return arr\n",
    "    else:\n",
    "        return np.concatenate((reverse2DArray(1/arr[1:]),1/arr[0:1]))\n",
    "        \n",
    "\n",
    "reverse2DArray(np.random.randint(1,10,size=10))\n",
    "\n",
    "\n"
   ]
  },
  {
   "attachments": {},
   "cell_type": "markdown",
   "metadata": {},
   "source": [
    "Create a function Unique(lst) that takes a list as a parameter and returns a list containing only unique\n",
    "elements i.e. duplicate elements should be removed. Don't used data structures set for this purpose.\n",
    "Write your own code.\n"
   ]
  },
  {
   "cell_type": "code",
   "execution_count": 1,
   "metadata": {},
   "outputs": [
    {
     "data": {
      "text/plain": [
       "[1, 2, 3, 4, 5, 6, 7, 8, 9]"
      ]
     },
     "execution_count": 1,
     "metadata": {},
     "output_type": "execute_result"
    }
   ],
   "source": [
    "def removeDuplicates(l):\n",
    "    new_list = []\n",
    "    for i in l:\n",
    "        if i not in new_list:\n",
    "            new_list.append(i)\n",
    "\n",
    "    return new_list\n",
    "\n",
    "removeDuplicates([1,2,3,4,5,6,7,8,9,1,2,3,4,5,6,7,8,9])"
   ]
  },
  {
   "attachments": {},
   "cell_type": "markdown",
   "metadata": {},
   "source": [
    "Write a recursive function that returns true if input string is a palindrome and false otherwise."
   ]
  },
  {
   "cell_type": "code",
   "execution_count": 27,
   "metadata": {},
   "outputs": [
    {
     "data": {
      "text/plain": [
       "True"
      ]
     },
     "execution_count": 27,
     "metadata": {},
     "output_type": "execute_result"
    }
   ],
   "source": [
    "def palindrome(str):\n",
    "    if len(str) == 0:\n",
    "        return True\n",
    "    else:\n",
    "        return str[0] == str[-1] and palindrome(str[1:-1])\n",
    "\n",
    "palindrome(\"civic\")"
   ]
  }
 ],
 "metadata": {
  "kernelspec": {
   "display_name": "Python 3",
   "language": "python",
   "name": "python3"
  },
  "language_info": {
   "codemirror_mode": {
    "name": "ipython",
    "version": 3
   },
   "file_extension": ".py",
   "mimetype": "text/x-python",
   "name": "python",
   "nbconvert_exporter": "python",
   "pygments_lexer": "ipython3",
   "version": "3.10.4"
  },
  "orig_nbformat": 4
 },
 "nbformat": 4,
 "nbformat_minor": 2
}
